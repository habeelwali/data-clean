{
 "cells": [
  {
   "cell_type": "code",
   "execution_count": 1,
   "metadata": {},
   "outputs": [],
   "source": [
    "import pandas as pd\n",
    "import numpy as np\n",
    "\n",
    "df = pd.read_csv(\"hotel_bookings.csv\")"
   ]
  },
  {
   "cell_type": "code",
   "execution_count": null,
   "metadata": {},
   "outputs": [],
   "source": [
    "# use head for print data "
   ]
  },
  {
   "cell_type": "code",
   "execution_count": 2,
   "metadata": {},
   "outputs": [
    {
     "data": {
      "text/html": [
       "<div>\n",
       "<style scoped>\n",
       "    .dataframe tbody tr th:only-of-type {\n",
       "        vertical-align: middle;\n",
       "    }\n",
       "\n",
       "    .dataframe tbody tr th {\n",
       "        vertical-align: top;\n",
       "    }\n",
       "\n",
       "    .dataframe thead th {\n",
       "        text-align: right;\n",
       "    }\n",
       "</style>\n",
       "<table border=\"1\" class=\"dataframe\">\n",
       "  <thead>\n",
       "    <tr style=\"text-align: right;\">\n",
       "      <th></th>\n",
       "      <th>hotel</th>\n",
       "      <th>is_canceled</th>\n",
       "      <th>lead_time</th>\n",
       "      <th>arrival_date_year</th>\n",
       "      <th>arrival_date_month</th>\n",
       "      <th>arrival_date_week_number</th>\n",
       "      <th>arrival_date_day_of_month</th>\n",
       "      <th>stays_in_weekend_nights</th>\n",
       "      <th>stays_in_week_nights</th>\n",
       "      <th>adults</th>\n",
       "      <th>...</th>\n",
       "      <th>deposit_type</th>\n",
       "      <th>agent</th>\n",
       "      <th>company</th>\n",
       "      <th>days_in_waiting_list</th>\n",
       "      <th>customer_type</th>\n",
       "      <th>adr</th>\n",
       "      <th>required_car_parking_spaces</th>\n",
       "      <th>total_of_special_requests</th>\n",
       "      <th>reservation_status</th>\n",
       "      <th>reservation_status_date</th>\n",
       "    </tr>\n",
       "  </thead>\n",
       "  <tbody>\n",
       "    <tr>\n",
       "      <th>0</th>\n",
       "      <td>Resort Hotel</td>\n",
       "      <td>0</td>\n",
       "      <td>342</td>\n",
       "      <td>2015</td>\n",
       "      <td>July</td>\n",
       "      <td>27</td>\n",
       "      <td>1</td>\n",
       "      <td>0</td>\n",
       "      <td>0</td>\n",
       "      <td>2</td>\n",
       "      <td>...</td>\n",
       "      <td>No Deposit</td>\n",
       "      <td>NaN</td>\n",
       "      <td>NaN</td>\n",
       "      <td>0</td>\n",
       "      <td>Transient</td>\n",
       "      <td>0.0</td>\n",
       "      <td>0</td>\n",
       "      <td>0</td>\n",
       "      <td>Check-Out</td>\n",
       "      <td>2015-07-01</td>\n",
       "    </tr>\n",
       "    <tr>\n",
       "      <th>1</th>\n",
       "      <td>Resort Hotel</td>\n",
       "      <td>0</td>\n",
       "      <td>737</td>\n",
       "      <td>2015</td>\n",
       "      <td>July</td>\n",
       "      <td>27</td>\n",
       "      <td>1</td>\n",
       "      <td>0</td>\n",
       "      <td>0</td>\n",
       "      <td>2</td>\n",
       "      <td>...</td>\n",
       "      <td>No Deposit</td>\n",
       "      <td>NaN</td>\n",
       "      <td>NaN</td>\n",
       "      <td>0</td>\n",
       "      <td>Transient</td>\n",
       "      <td>0.0</td>\n",
       "      <td>0</td>\n",
       "      <td>0</td>\n",
       "      <td>Check-Out</td>\n",
       "      <td>2015-07-01</td>\n",
       "    </tr>\n",
       "    <tr>\n",
       "      <th>2</th>\n",
       "      <td>Resort Hotel</td>\n",
       "      <td>0</td>\n",
       "      <td>7</td>\n",
       "      <td>2015</td>\n",
       "      <td>July</td>\n",
       "      <td>27</td>\n",
       "      <td>1</td>\n",
       "      <td>0</td>\n",
       "      <td>1</td>\n",
       "      <td>1</td>\n",
       "      <td>...</td>\n",
       "      <td>No Deposit</td>\n",
       "      <td>NaN</td>\n",
       "      <td>NaN</td>\n",
       "      <td>0</td>\n",
       "      <td>Transient</td>\n",
       "      <td>75.0</td>\n",
       "      <td>0</td>\n",
       "      <td>0</td>\n",
       "      <td>Check-Out</td>\n",
       "      <td>2015-07-02</td>\n",
       "    </tr>\n",
       "    <tr>\n",
       "      <th>3</th>\n",
       "      <td>Resort Hotel</td>\n",
       "      <td>0</td>\n",
       "      <td>13</td>\n",
       "      <td>2015</td>\n",
       "      <td>July</td>\n",
       "      <td>27</td>\n",
       "      <td>1</td>\n",
       "      <td>0</td>\n",
       "      <td>1</td>\n",
       "      <td>1</td>\n",
       "      <td>...</td>\n",
       "      <td>No Deposit</td>\n",
       "      <td>304.0</td>\n",
       "      <td>NaN</td>\n",
       "      <td>0</td>\n",
       "      <td>Transient</td>\n",
       "      <td>75.0</td>\n",
       "      <td>0</td>\n",
       "      <td>0</td>\n",
       "      <td>Check-Out</td>\n",
       "      <td>2015-07-02</td>\n",
       "    </tr>\n",
       "    <tr>\n",
       "      <th>4</th>\n",
       "      <td>Resort Hotel</td>\n",
       "      <td>0</td>\n",
       "      <td>14</td>\n",
       "      <td>2015</td>\n",
       "      <td>July</td>\n",
       "      <td>27</td>\n",
       "      <td>1</td>\n",
       "      <td>0</td>\n",
       "      <td>2</td>\n",
       "      <td>2</td>\n",
       "      <td>...</td>\n",
       "      <td>No Deposit</td>\n",
       "      <td>240.0</td>\n",
       "      <td>NaN</td>\n",
       "      <td>0</td>\n",
       "      <td>Transient</td>\n",
       "      <td>98.0</td>\n",
       "      <td>0</td>\n",
       "      <td>1</td>\n",
       "      <td>Check-Out</td>\n",
       "      <td>2015-07-03</td>\n",
       "    </tr>\n",
       "  </tbody>\n",
       "</table>\n",
       "<p>5 rows × 32 columns</p>\n",
       "</div>"
      ],
      "text/plain": [
       "          hotel  is_canceled  lead_time  arrival_date_year arrival_date_month  \\\n",
       "0  Resort Hotel            0        342               2015               July   \n",
       "1  Resort Hotel            0        737               2015               July   \n",
       "2  Resort Hotel            0          7               2015               July   \n",
       "3  Resort Hotel            0         13               2015               July   \n",
       "4  Resort Hotel            0         14               2015               July   \n",
       "\n",
       "   arrival_date_week_number  arrival_date_day_of_month  \\\n",
       "0                        27                          1   \n",
       "1                        27                          1   \n",
       "2                        27                          1   \n",
       "3                        27                          1   \n",
       "4                        27                          1   \n",
       "\n",
       "   stays_in_weekend_nights  stays_in_week_nights  adults  ...  deposit_type  \\\n",
       "0                        0                     0       2  ...    No Deposit   \n",
       "1                        0                     0       2  ...    No Deposit   \n",
       "2                        0                     1       1  ...    No Deposit   \n",
       "3                        0                     1       1  ...    No Deposit   \n",
       "4                        0                     2       2  ...    No Deposit   \n",
       "\n",
       "   agent company days_in_waiting_list customer_type   adr  \\\n",
       "0    NaN     NaN                    0     Transient   0.0   \n",
       "1    NaN     NaN                    0     Transient   0.0   \n",
       "2    NaN     NaN                    0     Transient  75.0   \n",
       "3  304.0     NaN                    0     Transient  75.0   \n",
       "4  240.0     NaN                    0     Transient  98.0   \n",
       "\n",
       "   required_car_parking_spaces  total_of_special_requests  reservation_status  \\\n",
       "0                            0                          0           Check-Out   \n",
       "1                            0                          0           Check-Out   \n",
       "2                            0                          0           Check-Out   \n",
       "3                            0                          0           Check-Out   \n",
       "4                            0                          1           Check-Out   \n",
       "\n",
       "  reservation_status_date  \n",
       "0              2015-07-01  \n",
       "1              2015-07-01  \n",
       "2              2015-07-02  \n",
       "3              2015-07-02  \n",
       "4              2015-07-03  \n",
       "\n",
       "[5 rows x 32 columns]"
      ]
     },
     "execution_count": 2,
     "metadata": {},
     "output_type": "execute_result"
    }
   ],
   "source": [
    "df.head()"
   ]
  },
  {
   "cell_type": "code",
   "execution_count": 3,
   "metadata": {},
   "outputs": [],
   "source": [
    "# rename columans name "
   ]
  },
  {
   "cell_type": "code",
   "execution_count": 4,
   "metadata": {},
   "outputs": [],
   "source": [
    "df.rename(columns={'is_canceled':'canceled','arrival_date_year':'arrival_year','arrival_date_month':'arrival_months','arrival_date_week_number':'arrival_week','arrival_date_day_of_month':'arrival_date'},inplace=True)"
   ]
  },
  {
   "cell_type": "code",
   "execution_count": 5,
   "metadata": {},
   "outputs": [],
   "source": [
    "df.columns = df.columns.str.upper()"
   ]
  },
  {
   "cell_type": "code",
   "execution_count": 6,
   "metadata": {},
   "outputs": [
    {
     "data": {
      "text/html": [
       "<div>\n",
       "<style scoped>\n",
       "    .dataframe tbody tr th:only-of-type {\n",
       "        vertical-align: middle;\n",
       "    }\n",
       "\n",
       "    .dataframe tbody tr th {\n",
       "        vertical-align: top;\n",
       "    }\n",
       "\n",
       "    .dataframe thead th {\n",
       "        text-align: right;\n",
       "    }\n",
       "</style>\n",
       "<table border=\"1\" class=\"dataframe\">\n",
       "  <thead>\n",
       "    <tr style=\"text-align: right;\">\n",
       "      <th></th>\n",
       "      <th>HOTEL</th>\n",
       "      <th>CANCELED</th>\n",
       "      <th>LEAD_TIME</th>\n",
       "      <th>ARRIVAL_YEAR</th>\n",
       "      <th>ARRIVAL_MONTHS</th>\n",
       "      <th>ARRIVAL_WEEK</th>\n",
       "      <th>ARRIVAL_DATE</th>\n",
       "      <th>STAYS_IN_WEEKEND_NIGHTS</th>\n",
       "      <th>STAYS_IN_WEEK_NIGHTS</th>\n",
       "      <th>ADULTS</th>\n",
       "      <th>...</th>\n",
       "      <th>DEPOSIT_TYPE</th>\n",
       "      <th>AGENT</th>\n",
       "      <th>COMPANY</th>\n",
       "      <th>DAYS_IN_WAITING_LIST</th>\n",
       "      <th>CUSTOMER_TYPE</th>\n",
       "      <th>ADR</th>\n",
       "      <th>REQUIRED_CAR_PARKING_SPACES</th>\n",
       "      <th>TOTAL_OF_SPECIAL_REQUESTS</th>\n",
       "      <th>RESERVATION_STATUS</th>\n",
       "      <th>RESERVATION_STATUS_DATE</th>\n",
       "    </tr>\n",
       "  </thead>\n",
       "  <tbody>\n",
       "    <tr>\n",
       "      <th>0</th>\n",
       "      <td>Resort Hotel</td>\n",
       "      <td>0</td>\n",
       "      <td>342</td>\n",
       "      <td>2015</td>\n",
       "      <td>July</td>\n",
       "      <td>27</td>\n",
       "      <td>1</td>\n",
       "      <td>0</td>\n",
       "      <td>0</td>\n",
       "      <td>2</td>\n",
       "      <td>...</td>\n",
       "      <td>No Deposit</td>\n",
       "      <td>NaN</td>\n",
       "      <td>NaN</td>\n",
       "      <td>0</td>\n",
       "      <td>Transient</td>\n",
       "      <td>0.0</td>\n",
       "      <td>0</td>\n",
       "      <td>0</td>\n",
       "      <td>Check-Out</td>\n",
       "      <td>2015-07-01</td>\n",
       "    </tr>\n",
       "    <tr>\n",
       "      <th>1</th>\n",
       "      <td>Resort Hotel</td>\n",
       "      <td>0</td>\n",
       "      <td>737</td>\n",
       "      <td>2015</td>\n",
       "      <td>July</td>\n",
       "      <td>27</td>\n",
       "      <td>1</td>\n",
       "      <td>0</td>\n",
       "      <td>0</td>\n",
       "      <td>2</td>\n",
       "      <td>...</td>\n",
       "      <td>No Deposit</td>\n",
       "      <td>NaN</td>\n",
       "      <td>NaN</td>\n",
       "      <td>0</td>\n",
       "      <td>Transient</td>\n",
       "      <td>0.0</td>\n",
       "      <td>0</td>\n",
       "      <td>0</td>\n",
       "      <td>Check-Out</td>\n",
       "      <td>2015-07-01</td>\n",
       "    </tr>\n",
       "    <tr>\n",
       "      <th>2</th>\n",
       "      <td>Resort Hotel</td>\n",
       "      <td>0</td>\n",
       "      <td>7</td>\n",
       "      <td>2015</td>\n",
       "      <td>July</td>\n",
       "      <td>27</td>\n",
       "      <td>1</td>\n",
       "      <td>0</td>\n",
       "      <td>1</td>\n",
       "      <td>1</td>\n",
       "      <td>...</td>\n",
       "      <td>No Deposit</td>\n",
       "      <td>NaN</td>\n",
       "      <td>NaN</td>\n",
       "      <td>0</td>\n",
       "      <td>Transient</td>\n",
       "      <td>75.0</td>\n",
       "      <td>0</td>\n",
       "      <td>0</td>\n",
       "      <td>Check-Out</td>\n",
       "      <td>2015-07-02</td>\n",
       "    </tr>\n",
       "    <tr>\n",
       "      <th>3</th>\n",
       "      <td>Resort Hotel</td>\n",
       "      <td>0</td>\n",
       "      <td>13</td>\n",
       "      <td>2015</td>\n",
       "      <td>July</td>\n",
       "      <td>27</td>\n",
       "      <td>1</td>\n",
       "      <td>0</td>\n",
       "      <td>1</td>\n",
       "      <td>1</td>\n",
       "      <td>...</td>\n",
       "      <td>No Deposit</td>\n",
       "      <td>304.0</td>\n",
       "      <td>NaN</td>\n",
       "      <td>0</td>\n",
       "      <td>Transient</td>\n",
       "      <td>75.0</td>\n",
       "      <td>0</td>\n",
       "      <td>0</td>\n",
       "      <td>Check-Out</td>\n",
       "      <td>2015-07-02</td>\n",
       "    </tr>\n",
       "    <tr>\n",
       "      <th>4</th>\n",
       "      <td>Resort Hotel</td>\n",
       "      <td>0</td>\n",
       "      <td>14</td>\n",
       "      <td>2015</td>\n",
       "      <td>July</td>\n",
       "      <td>27</td>\n",
       "      <td>1</td>\n",
       "      <td>0</td>\n",
       "      <td>2</td>\n",
       "      <td>2</td>\n",
       "      <td>...</td>\n",
       "      <td>No Deposit</td>\n",
       "      <td>240.0</td>\n",
       "      <td>NaN</td>\n",
       "      <td>0</td>\n",
       "      <td>Transient</td>\n",
       "      <td>98.0</td>\n",
       "      <td>0</td>\n",
       "      <td>1</td>\n",
       "      <td>Check-Out</td>\n",
       "      <td>2015-07-03</td>\n",
       "    </tr>\n",
       "  </tbody>\n",
       "</table>\n",
       "<p>5 rows × 32 columns</p>\n",
       "</div>"
      ],
      "text/plain": [
       "          HOTEL  CANCELED  LEAD_TIME  ARRIVAL_YEAR ARRIVAL_MONTHS  \\\n",
       "0  Resort Hotel         0        342          2015           July   \n",
       "1  Resort Hotel         0        737          2015           July   \n",
       "2  Resort Hotel         0          7          2015           July   \n",
       "3  Resort Hotel         0         13          2015           July   \n",
       "4  Resort Hotel         0         14          2015           July   \n",
       "\n",
       "   ARRIVAL_WEEK  ARRIVAL_DATE  STAYS_IN_WEEKEND_NIGHTS  STAYS_IN_WEEK_NIGHTS  \\\n",
       "0            27             1                        0                     0   \n",
       "1            27             1                        0                     0   \n",
       "2            27             1                        0                     1   \n",
       "3            27             1                        0                     1   \n",
       "4            27             1                        0                     2   \n",
       "\n",
       "   ADULTS  ...  DEPOSIT_TYPE  AGENT COMPANY DAYS_IN_WAITING_LIST  \\\n",
       "0       2  ...    No Deposit    NaN     NaN                    0   \n",
       "1       2  ...    No Deposit    NaN     NaN                    0   \n",
       "2       1  ...    No Deposit    NaN     NaN                    0   \n",
       "3       1  ...    No Deposit  304.0     NaN                    0   \n",
       "4       2  ...    No Deposit  240.0     NaN                    0   \n",
       "\n",
       "  CUSTOMER_TYPE   ADR  REQUIRED_CAR_PARKING_SPACES  TOTAL_OF_SPECIAL_REQUESTS  \\\n",
       "0     Transient   0.0                            0                          0   \n",
       "1     Transient   0.0                            0                          0   \n",
       "2     Transient  75.0                            0                          0   \n",
       "3     Transient  75.0                            0                          0   \n",
       "4     Transient  98.0                            0                          1   \n",
       "\n",
       "   RESERVATION_STATUS RESERVATION_STATUS_DATE  \n",
       "0           Check-Out              2015-07-01  \n",
       "1           Check-Out              2015-07-01  \n",
       "2           Check-Out              2015-07-02  \n",
       "3           Check-Out              2015-07-02  \n",
       "4           Check-Out              2015-07-03  \n",
       "\n",
       "[5 rows x 32 columns]"
      ]
     },
     "execution_count": 6,
     "metadata": {},
     "output_type": "execute_result"
    }
   ],
   "source": [
    "df.head()"
   ]
  },
  {
   "cell_type": "code",
   "execution_count": 7,
   "metadata": {},
   "outputs": [
    {
     "data": {
      "text/plain": [
       "HOTEL                                  0\n",
       "CANCELED                               0\n",
       "LEAD_TIME                              0\n",
       "ARRIVAL_YEAR                           0\n",
       "ARRIVAL_MONTHS                         0\n",
       "ARRIVAL_WEEK                           0\n",
       "ARRIVAL_DATE                           0\n",
       "STAYS_IN_WEEKEND_NIGHTS                0\n",
       "STAYS_IN_WEEK_NIGHTS                   0\n",
       "ADULTS                                 0\n",
       "CHILDREN                               4\n",
       "BABIES                                 0\n",
       "MEAL                                   0\n",
       "COUNTRY                              488\n",
       "MARKET_SEGMENT                         0\n",
       "DISTRIBUTION_CHANNEL                   0\n",
       "IS_REPEATED_GUEST                      0\n",
       "PREVIOUS_CANCELLATIONS                 0\n",
       "PREVIOUS_BOOKINGS_NOT_CANCELED         0\n",
       "RESERVED_ROOM_TYPE                     0\n",
       "ASSIGNED_ROOM_TYPE                     0\n",
       "BOOKING_CHANGES                        0\n",
       "DEPOSIT_TYPE                           0\n",
       "AGENT                              16340\n",
       "COMPANY                           112593\n",
       "DAYS_IN_WAITING_LIST                   0\n",
       "CUSTOMER_TYPE                          0\n",
       "ADR                                    0\n",
       "REQUIRED_CAR_PARKING_SPACES            0\n",
       "TOTAL_OF_SPECIAL_REQUESTS              0\n",
       "RESERVATION_STATUS                     0\n",
       "RESERVATION_STATUS_DATE                0\n",
       "dtype: int64"
      ]
     },
     "execution_count": 7,
     "metadata": {},
     "output_type": "execute_result"
    }
   ],
   "source": [
    "df.isnull().sum()"
   ]
  },
  {
   "cell_type": "code",
   "execution_count": 8,
   "metadata": {},
   "outputs": [],
   "source": [
    "df[\"COUNTRY\"].fillna(\"N/A\", inplace = True) "
   ]
  },
  {
   "cell_type": "code",
   "execution_count": 9,
   "metadata": {},
   "outputs": [
    {
     "data": {
      "text/plain": [
       "HOTEL                                  0\n",
       "CANCELED                               0\n",
       "LEAD_TIME                              0\n",
       "ARRIVAL_YEAR                           0\n",
       "ARRIVAL_MONTHS                         0\n",
       "ARRIVAL_WEEK                           0\n",
       "ARRIVAL_DATE                           0\n",
       "STAYS_IN_WEEKEND_NIGHTS                0\n",
       "STAYS_IN_WEEK_NIGHTS                   0\n",
       "ADULTS                                 0\n",
       "CHILDREN                               4\n",
       "BABIES                                 0\n",
       "MEAL                                   0\n",
       "COUNTRY                                0\n",
       "MARKET_SEGMENT                         0\n",
       "DISTRIBUTION_CHANNEL                   0\n",
       "IS_REPEATED_GUEST                      0\n",
       "PREVIOUS_CANCELLATIONS                 0\n",
       "PREVIOUS_BOOKINGS_NOT_CANCELED         0\n",
       "RESERVED_ROOM_TYPE                     0\n",
       "ASSIGNED_ROOM_TYPE                     0\n",
       "BOOKING_CHANGES                        0\n",
       "DEPOSIT_TYPE                           0\n",
       "AGENT                              16340\n",
       "COMPANY                           112593\n",
       "DAYS_IN_WAITING_LIST                   0\n",
       "CUSTOMER_TYPE                          0\n",
       "ADR                                    0\n",
       "REQUIRED_CAR_PARKING_SPACES            0\n",
       "TOTAL_OF_SPECIAL_REQUESTS              0\n",
       "RESERVATION_STATUS                     0\n",
       "RESERVATION_STATUS_DATE                0\n",
       "dtype: int64"
      ]
     },
     "execution_count": 9,
     "metadata": {},
     "output_type": "execute_result"
    }
   ],
   "source": [
    "df.isnull().sum()"
   ]
  },
  {
   "cell_type": "code",
   "execution_count": 10,
   "metadata": {},
   "outputs": [
    {
     "data": {
      "text/plain": [
       "4"
      ]
     },
     "execution_count": 10,
     "metadata": {},
     "output_type": "execute_result"
    }
   ],
   "source": [
    "df['CHILDREN'].isnull().sum()"
   ]
  },
  {
   "cell_type": "code",
   "execution_count": 11,
   "metadata": {},
   "outputs": [
    {
     "data": {
      "text/plain": [
       "0     0.0\n",
       "1     0.0\n",
       "2     0.0\n",
       "3     0.0\n",
       "4     0.0\n",
       "     ... \n",
       "95    0.0\n",
       "96    0.0\n",
       "97    0.0\n",
       "98    1.0\n",
       "99    0.0\n",
       "Name: CHILDREN, Length: 100, dtype: float64"
      ]
     },
     "execution_count": 11,
     "metadata": {},
     "output_type": "execute_result"
    }
   ],
   "source": [
    "df['CHILDREN'].head(100)"
   ]
  },
  {
   "cell_type": "code",
   "execution_count": 12,
   "metadata": {},
   "outputs": [],
   "source": [
    "df['CHILDREN'] = df['CHILDREN'].replace(np.nan, 0.0)"
   ]
  },
  {
   "cell_type": "code",
   "execution_count": 13,
   "metadata": {},
   "outputs": [
    {
     "data": {
      "text/plain": [
       "0"
      ]
     },
     "execution_count": 13,
     "metadata": {},
     "output_type": "execute_result"
    }
   ],
   "source": [
    "df['CHILDREN'].isnull().sum()"
   ]
  },
  {
   "cell_type": "code",
   "execution_count": 14,
   "metadata": {},
   "outputs": [],
   "source": [
    "df['AGENT'].fillna((df['AGENT'].mean()), inplace=True)"
   ]
  },
  {
   "cell_type": "code",
   "execution_count": 15,
   "metadata": {},
   "outputs": [
    {
     "data": {
      "text/plain": [
       "HOTEL                                  0\n",
       "CANCELED                               0\n",
       "LEAD_TIME                              0\n",
       "ARRIVAL_YEAR                           0\n",
       "ARRIVAL_MONTHS                         0\n",
       "ARRIVAL_WEEK                           0\n",
       "ARRIVAL_DATE                           0\n",
       "STAYS_IN_WEEKEND_NIGHTS                0\n",
       "STAYS_IN_WEEK_NIGHTS                   0\n",
       "ADULTS                                 0\n",
       "CHILDREN                               0\n",
       "BABIES                                 0\n",
       "MEAL                                   0\n",
       "COUNTRY                                0\n",
       "MARKET_SEGMENT                         0\n",
       "DISTRIBUTION_CHANNEL                   0\n",
       "IS_REPEATED_GUEST                      0\n",
       "PREVIOUS_CANCELLATIONS                 0\n",
       "PREVIOUS_BOOKINGS_NOT_CANCELED         0\n",
       "RESERVED_ROOM_TYPE                     0\n",
       "ASSIGNED_ROOM_TYPE                     0\n",
       "BOOKING_CHANGES                        0\n",
       "DEPOSIT_TYPE                           0\n",
       "AGENT                                  0\n",
       "COMPANY                           112593\n",
       "DAYS_IN_WAITING_LIST                   0\n",
       "CUSTOMER_TYPE                          0\n",
       "ADR                                    0\n",
       "REQUIRED_CAR_PARKING_SPACES            0\n",
       "TOTAL_OF_SPECIAL_REQUESTS              0\n",
       "RESERVATION_STATUS                     0\n",
       "RESERVATION_STATUS_DATE                0\n",
       "dtype: int64"
      ]
     },
     "execution_count": 15,
     "metadata": {},
     "output_type": "execute_result"
    }
   ],
   "source": [
    "df.isnull().sum()"
   ]
  },
  {
   "cell_type": "code",
   "execution_count": 16,
   "metadata": {},
   "outputs": [],
   "source": [
    "df['COMPANY'] = df['COMPANY'].replace(np.nan, 0.0)"
   ]
  },
  {
   "cell_type": "code",
   "execution_count": 17,
   "metadata": {},
   "outputs": [
    {
     "data": {
      "text/plain": [
       "HOTEL                             0\n",
       "CANCELED                          0\n",
       "LEAD_TIME                         0\n",
       "ARRIVAL_YEAR                      0\n",
       "ARRIVAL_MONTHS                    0\n",
       "ARRIVAL_WEEK                      0\n",
       "ARRIVAL_DATE                      0\n",
       "STAYS_IN_WEEKEND_NIGHTS           0\n",
       "STAYS_IN_WEEK_NIGHTS              0\n",
       "ADULTS                            0\n",
       "CHILDREN                          0\n",
       "BABIES                            0\n",
       "MEAL                              0\n",
       "COUNTRY                           0\n",
       "MARKET_SEGMENT                    0\n",
       "DISTRIBUTION_CHANNEL              0\n",
       "IS_REPEATED_GUEST                 0\n",
       "PREVIOUS_CANCELLATIONS            0\n",
       "PREVIOUS_BOOKINGS_NOT_CANCELED    0\n",
       "RESERVED_ROOM_TYPE                0\n",
       "ASSIGNED_ROOM_TYPE                0\n",
       "BOOKING_CHANGES                   0\n",
       "DEPOSIT_TYPE                      0\n",
       "AGENT                             0\n",
       "COMPANY                           0\n",
       "DAYS_IN_WAITING_LIST              0\n",
       "CUSTOMER_TYPE                     0\n",
       "ADR                               0\n",
       "REQUIRED_CAR_PARKING_SPACES       0\n",
       "TOTAL_OF_SPECIAL_REQUESTS         0\n",
       "RESERVATION_STATUS                0\n",
       "RESERVATION_STATUS_DATE           0\n",
       "dtype: int64"
      ]
     },
     "execution_count": 17,
     "metadata": {},
     "output_type": "execute_result"
    }
   ],
   "source": [
    "df.isnull().sum()"
   ]
  },
  {
   "cell_type": "code",
   "execution_count": 18,
   "metadata": {},
   "outputs": [
    {
     "data": {
      "text/plain": [
       "HOTEL                              object\n",
       "CANCELED                            int64\n",
       "LEAD_TIME                           int64\n",
       "ARRIVAL_YEAR                        int64\n",
       "ARRIVAL_MONTHS                     object\n",
       "ARRIVAL_WEEK                        int64\n",
       "ARRIVAL_DATE                        int64\n",
       "STAYS_IN_WEEKEND_NIGHTS             int64\n",
       "STAYS_IN_WEEK_NIGHTS                int64\n",
       "ADULTS                              int64\n",
       "CHILDREN                          float64\n",
       "BABIES                              int64\n",
       "MEAL                               object\n",
       "COUNTRY                            object\n",
       "MARKET_SEGMENT                     object\n",
       "DISTRIBUTION_CHANNEL               object\n",
       "IS_REPEATED_GUEST                   int64\n",
       "PREVIOUS_CANCELLATIONS              int64\n",
       "PREVIOUS_BOOKINGS_NOT_CANCELED      int64\n",
       "RESERVED_ROOM_TYPE                 object\n",
       "ASSIGNED_ROOM_TYPE                 object\n",
       "BOOKING_CHANGES                     int64\n",
       "DEPOSIT_TYPE                       object\n",
       "AGENT                             float64\n",
       "COMPANY                           float64\n",
       "DAYS_IN_WAITING_LIST                int64\n",
       "CUSTOMER_TYPE                      object\n",
       "ADR                               float64\n",
       "REQUIRED_CAR_PARKING_SPACES         int64\n",
       "TOTAL_OF_SPECIAL_REQUESTS           int64\n",
       "RESERVATION_STATUS                 object\n",
       "RESERVATION_STATUS_DATE            object\n",
       "dtype: object"
      ]
     },
     "execution_count": 18,
     "metadata": {},
     "output_type": "execute_result"
    }
   ],
   "source": [
    "df.dtypes"
   ]
  },
  {
   "cell_type": "code",
   "execution_count": 19,
   "metadata": {},
   "outputs": [],
   "source": [
    "df['AGENT'] = round(df['AGENT'].apply(pd.to_numeric),2)"
   ]
  },
  {
   "cell_type": "code",
   "execution_count": 20,
   "metadata": {},
   "outputs": [
    {
     "data": {
      "text/plain": [
       "True"
      ]
     },
     "execution_count": 20,
     "metadata": {},
     "output_type": "execute_result"
    }
   ],
   "source": [
    "df.duplicated().any()"
   ]
  },
  {
   "cell_type": "code",
   "execution_count": 21,
   "metadata": {},
   "outputs": [],
   "source": [
    "df.drop_duplicates(inplace=True)"
   ]
  },
  {
   "cell_type": "code",
   "execution_count": 22,
   "metadata": {},
   "outputs": [
    {
     "data": {
      "text/plain": [
       "False"
      ]
     },
     "execution_count": 22,
     "metadata": {},
     "output_type": "execute_result"
    }
   ],
   "source": [
    "df.duplicated().any()"
   ]
  },
  {
   "cell_type": "code",
   "execution_count": 24,
   "metadata": {},
   "outputs": [
    {
     "data": {
      "text/plain": [
       "array([[<AxesSubplot:title={'center':'AGENT'}>]], dtype=object)"
      ]
     },
     "execution_count": 24,
     "metadata": {},
     "output_type": "execute_result"
    },
    {
     "data": {
      "image/png": "[encoded data removed]",
      "text/plain": [
       "<Figure size 432x288 with 1 Axes>"
      ]
     },
     "metadata": {
      "needs_background": "light"
     },
     "output_type": "display_data"
    }
   ],
   "source": [
    "df.hist('AGENT')"
   ]
  },
  {
   "cell_type": "code",
   "execution_count": null,
   "metadata": {},
   "outputs": [],
   "source": []
  }
 ],
 "metadata": {
  "kernelspec": {
   "display_name": "Python 3",
   "language": "python",
   "name": "python3"
  },
  "language_info": {
   "codemirror_mode": {
    "name": "ipython",
    "version": 3
   },
   "file_extension": ".py",
   "mimetype": "text/x-python",
   "name": "python",
   "nbconvert_exporter": "python",
   "pygments_lexer": "ipython3",
   "version": "3.7.3"
  }
 },
 "nbformat": 4,
 "nbformat_minor": 2
}
